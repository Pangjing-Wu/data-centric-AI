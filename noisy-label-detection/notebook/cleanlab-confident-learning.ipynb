{
 "cells": [
  {
   "attachments": {},
   "cell_type": "markdown",
   "metadata": {},
   "source": [
    "# Confident Learning\n",
    "This notebook reimplement the major processes of [confident learning](https://www.jair.org/index.php/jair/article/download/12125/26676/) along with a toy domain example and shows how to invoke Confident Learning from `cleanlab` with a relatively challenge real-world task. It partly refers to this [blog](https://zhuanlan.zhihu.com/p/488970312) and [code](https://github.com/Christmas-Wong/paper_project/blob/main/) (note that the `cleanlab` invoked in the referring code is outdated)."
   ]
  },
  {
   "attachments": {},
   "cell_type": "markdown",
   "metadata": {},
   "source": [
    "### Manual Reimplement and Toy Domain Experience\n",
    "* Generate manual labels.\n",
    "* Calculate threshold $t_i$, the expected (average) self-confidence for the class $i$.\n",
    "* Calculate confident joint matrix $C$.\n",
    "* Calibrate confident joint matrix so that the distribution sums to 1.\n",
    "* Output potential mislabeled samples. "
   ]
  },
  {
   "cell_type": "code",
   "execution_count": 1,
   "metadata": {},
   "outputs": [],
   "source": [
    "import cleanlab\n",
    "import numpy as np\n",
    "import pandas as pd\n",
    "\n",
    "np.random.seed(0)"
   ]
  },
  {
   "cell_type": "code",
   "execution_count": 2,
   "metadata": {},
   "outputs": [
    {
     "data": {
      "text/html": [
       "<div>\n",
       "<style scoped>\n",
       "    .dataframe tbody tr th:only-of-type {\n",
       "        vertical-align: middle;\n",
       "    }\n",
       "\n",
       "    .dataframe tbody tr th {\n",
       "        vertical-align: top;\n",
       "    }\n",
       "\n",
       "    .dataframe thead th {\n",
       "        text-align: right;\n",
       "    }\n",
       "</style>\n",
       "<table border=\"1\" class=\"dataframe\">\n",
       "  <thead>\n",
       "    <tr style=\"text-align: right;\">\n",
       "      <th></th>\n",
       "      <th>p0</th>\n",
       "      <th>p1</th>\n",
       "      <th>y</th>\n",
       "    </tr>\n",
       "  </thead>\n",
       "  <tbody>\n",
       "    <tr>\n",
       "      <th>0</th>\n",
       "      <td>0.5</td>\n",
       "      <td>0.5</td>\n",
       "      <td>0</td>\n",
       "    </tr>\n",
       "    <tr>\n",
       "      <th>1</th>\n",
       "      <td>0.7</td>\n",
       "      <td>0.3</td>\n",
       "      <td>1</td>\n",
       "    </tr>\n",
       "    <tr>\n",
       "      <th>2</th>\n",
       "      <td>0.6</td>\n",
       "      <td>0.4</td>\n",
       "      <td>0</td>\n",
       "    </tr>\n",
       "    <tr>\n",
       "      <th>3</th>\n",
       "      <td>0.5</td>\n",
       "      <td>0.5</td>\n",
       "      <td>1</td>\n",
       "    </tr>\n",
       "    <tr>\n",
       "      <th>4</th>\n",
       "      <td>0.4</td>\n",
       "      <td>0.6</td>\n",
       "      <td>1</td>\n",
       "    </tr>\n",
       "    <tr>\n",
       "      <th>5</th>\n",
       "      <td>0.6</td>\n",
       "      <td>0.4</td>\n",
       "      <td>1</td>\n",
       "    </tr>\n",
       "    <tr>\n",
       "      <th>6</th>\n",
       "      <td>0.4</td>\n",
       "      <td>0.6</td>\n",
       "      <td>1</td>\n",
       "    </tr>\n",
       "    <tr>\n",
       "      <th>7</th>\n",
       "      <td>0.9</td>\n",
       "      <td>0.1</td>\n",
       "      <td>1</td>\n",
       "    </tr>\n",
       "    <tr>\n",
       "      <th>8</th>\n",
       "      <td>1.0</td>\n",
       "      <td>0.0</td>\n",
       "      <td>0</td>\n",
       "    </tr>\n",
       "    <tr>\n",
       "      <th>9</th>\n",
       "      <td>0.4</td>\n",
       "      <td>0.6</td>\n",
       "      <td>1</td>\n",
       "    </tr>\n",
       "    <tr>\n",
       "      <th>10</th>\n",
       "      <td>0.8</td>\n",
       "      <td>0.2</td>\n",
       "      <td>0</td>\n",
       "    </tr>\n",
       "    <tr>\n",
       "      <th>11</th>\n",
       "      <td>0.5</td>\n",
       "      <td>0.5</td>\n",
       "      <td>1</td>\n",
       "    </tr>\n",
       "    <tr>\n",
       "      <th>12</th>\n",
       "      <td>0.6</td>\n",
       "      <td>0.4</td>\n",
       "      <td>1</td>\n",
       "    </tr>\n",
       "    <tr>\n",
       "      <th>13</th>\n",
       "      <td>0.9</td>\n",
       "      <td>0.1</td>\n",
       "      <td>1</td>\n",
       "    </tr>\n",
       "    <tr>\n",
       "      <th>14</th>\n",
       "      <td>0.1</td>\n",
       "      <td>0.9</td>\n",
       "      <td>1</td>\n",
       "    </tr>\n",
       "    <tr>\n",
       "      <th>15</th>\n",
       "      <td>0.1</td>\n",
       "      <td>0.9</td>\n",
       "      <td>0</td>\n",
       "    </tr>\n",
       "    <tr>\n",
       "      <th>16</th>\n",
       "      <td>0.0</td>\n",
       "      <td>1.0</td>\n",
       "      <td>1</td>\n",
       "    </tr>\n",
       "    <tr>\n",
       "      <th>17</th>\n",
       "      <td>0.8</td>\n",
       "      <td>0.2</td>\n",
       "      <td>0</td>\n",
       "    </tr>\n",
       "    <tr>\n",
       "      <th>18</th>\n",
       "      <td>0.8</td>\n",
       "      <td>0.2</td>\n",
       "      <td>0</td>\n",
       "    </tr>\n",
       "    <tr>\n",
       "      <th>19</th>\n",
       "      <td>0.9</td>\n",
       "      <td>0.1</td>\n",
       "      <td>1</td>\n",
       "    </tr>\n",
       "  </tbody>\n",
       "</table>\n",
       "</div>"
      ],
      "text/plain": [
       "     p0   p1  y\n",
       "0   0.5  0.5  0\n",
       "1   0.7  0.3  1\n",
       "2   0.6  0.4  0\n",
       "3   0.5  0.5  1\n",
       "4   0.4  0.6  1\n",
       "5   0.6  0.4  1\n",
       "6   0.4  0.6  1\n",
       "7   0.9  0.1  1\n",
       "8   1.0  0.0  0\n",
       "9   0.4  0.6  1\n",
       "10  0.8  0.2  0\n",
       "11  0.5  0.5  1\n",
       "12  0.6  0.4  1\n",
       "13  0.9  0.1  1\n",
       "14  0.1  0.9  1\n",
       "15  0.1  0.9  0\n",
       "16  0.0  1.0  1\n",
       "17  0.8  0.2  0\n",
       "18  0.8  0.2  0\n",
       "19  0.9  0.1  1"
      ]
     },
     "execution_count": 2,
     "metadata": {},
     "output_type": "execute_result"
    }
   ],
   "source": [
    "p0 = np.random.uniform(0, 1, size=20)\n",
    "p0 = np.array([round(i, 1) for i in p0])\n",
    "p1 = 1 - p0\n",
    "y  = np.random.randint(0, 2, 20)\n",
    "\n",
    "df_data = pd.DataFrame(dict(p0=p0, p1=p1, y=y))\n",
    "df_data"
   ]
  },
  {
   "attachments": {},
   "cell_type": "markdown",
   "metadata": {},
   "source": [
    "#### Calculate Thresholds\n",
    "The threshold $t_j$ is the expected (average) self-confidence for each class $j$, *i.e.,*\n",
    "$$t_j=\\frac{1}{|X_{\\tilde{y}=j}|} \\sum_{x\\in X_{\\tilde{y}=j}} \\hat{p}(\\tilde{y}=j;x,\\theta),$$\n",
    "where $\\tilde{y}$ is the given label with noise."
   ]
  },
  {
   "cell_type": "code",
   "execution_count": 3,
   "metadata": {},
   "outputs": [
    {
     "data": {
      "text/plain": [
       "[0.6571428571428573, 0.46923076923076923]"
      ]
     },
     "execution_count": 3,
     "metadata": {},
     "output_type": "execute_result"
    }
   ],
   "source": [
    "n = [0, 0]\n",
    "t = [0, 0]\n",
    "for index, column in df_data.iterrows():\n",
    "    if column['y'] == 0:\n",
    "        n[0] += 1\n",
    "        t[0] += column['p0']\n",
    "    elif column['y'] == 1:\n",
    "        n[1] += 1\n",
    "        t[1] += column['p1']\n",
    "    else:\n",
    "        raise ValueError(f\"unknown label '{column['y']}'.\")\n",
    "t[0] = t[0] / n[0]\n",
    "t[1] = t[1] / n[1]\n",
    "t"
   ]
  },
  {
   "attachments": {},
   "cell_type": "markdown",
   "metadata": {},
   "source": [
    "#### Calculate Confident Joint Matrix\n",
    "The definition of the confident joint $C_{\\tilde{y},y^*}$ estimates $X_{\\tilde{y}=i,y^*=j}$,the set of examples with noisy label $i$ that actually have true label $j$,by partitioning $X$ into estimate bins $\\hat{X}_{\\tilde{y}=i,y^*=j}$. Formally, the definition of the confident joint is,\n",
    "$$C_{\\tilde{y},y^*}[i][j]:=|\\hat{X}_{\\tilde{y}=i,y^*=j}|,$$\n",
    "where,\n",
    "$$\\hat{X}_{\\tilde{y}=i,y^*=j}:= \\left\\{ x\\in X_{\\tilde{y}=i}: \\hat{p}(\\tilde{y}=j;x,\\theta)\\geq t_j, j=\\mathop{\\arg\\max}_{l\\in[m]:\\hat{p}(\\tilde{y}=l;x,\\theta)\\geq t_l} \\hat{p}(\\tilde{y}=l;x,\\theta) \\right\\}$$\n"
   ]
  },
  {
   "cell_type": "code",
   "execution_count": 4,
   "metadata": {},
   "outputs": [
    {
     "data": {
      "text/html": [
       "<div>\n",
       "<style scoped>\n",
       "    .dataframe tbody tr th:only-of-type {\n",
       "        vertical-align: middle;\n",
       "    }\n",
       "\n",
       "    .dataframe tbody tr th {\n",
       "        vertical-align: top;\n",
       "    }\n",
       "\n",
       "    .dataframe thead th {\n",
       "        text-align: right;\n",
       "    }\n",
       "</style>\n",
       "<table border=\"1\" class=\"dataframe\">\n",
       "  <thead>\n",
       "    <tr style=\"text-align: right;\">\n",
       "      <th></th>\n",
       "      <th>true_0</th>\n",
       "      <th>true_1</th>\n",
       "    </tr>\n",
       "  </thead>\n",
       "  <tbody>\n",
       "    <tr>\n",
       "      <th>pred_0</th>\n",
       "      <td>4</td>\n",
       "      <td>1</td>\n",
       "    </tr>\n",
       "    <tr>\n",
       "      <th>pred_1</th>\n",
       "      <td>4</td>\n",
       "      <td>5</td>\n",
       "    </tr>\n",
       "  </tbody>\n",
       "</table>\n",
       "</div>"
      ],
      "text/plain": [
       "        true_0  true_1\n",
       "pred_0       4       1\n",
       "pred_1       4       5"
      ]
     },
     "execution_count": 4,
     "metadata": {},
     "output_type": "execute_result"
    }
   ],
   "source": [
    "C = pd.DataFrame(dict(true_0=[0, 0], true_1=[0, 0]), index=[\"pred_0\", \"pred_1\"])\n",
    "    \n",
    "for index, column in df_data.iterrows():\n",
    "    # true label is `0`.\n",
    "    if column['p0'] > column['p1'] and column['p0'] > t[0]:\n",
    "        # given label is `0`.\n",
    "        if column['y'] == 0:\n",
    "            C.loc[\"pred_0\", \"true_0\"] += 1\n",
    "        # given label is `1`.\n",
    "        if column['y'] == 1:\n",
    "            C.loc[\"pred_1\", \"true_0\"] += 1\n",
    "    # true label is `1`.\n",
    "    if column['p1'] > column['p0'] and column['p1'] > t[1]:\n",
    "        # given label is `0`.\n",
    "        if column['y'] == 0:\n",
    "            C.loc[\"pred_0\", \"true_1\"] += 1\n",
    "        # given label is `1`.\n",
    "        if column['y'] == 1:\n",
    "            C.loc[\"pred_1\", \"true_1\"] += 1\n",
    "\n",
    "C"
   ]
  },
  {
   "attachments": {},
   "cell_type": "markdown",
   "metadata": {},
   "source": [
    "#### Calibrate Confident Joint Matrix\n",
    "When counting the number of real labels, the samples whose probability is lower than the threshold are excluded, leading to the change of distribution in the confident joint matrix. So we need to calibrate the matrix to be the same as the original distribution by,\n",
    "$$\\hat{Q}_{\\tilde{y}=i,y^*=j} = \\frac{\\frac{C_{\\tilde{y}=i,y^*=j}}{\\sum_{j\\in[m]} C_{\\tilde{y}=i,y^*=j}} \\cdot |X_{\\tilde{y}=i}|}{\\sum_{i\\in[m], j\\in[m]} \\left( \\frac{C_{\\tilde{y}=i,y^*=j}}{\\sum_{j'\\in[m]} C_{\\tilde{y}=i,y^*=j'}} \\cdot |X_{\\tilde{y}=i|} \\right)}.$$"
   ]
  },
  {
   "cell_type": "code",
   "execution_count": 5,
   "metadata": {},
   "outputs": [
    {
     "data": {
      "text/html": [
       "<div>\n",
       "<style scoped>\n",
       "    .dataframe tbody tr th:only-of-type {\n",
       "        vertical-align: middle;\n",
       "    }\n",
       "\n",
       "    .dataframe tbody tr th {\n",
       "        vertical-align: top;\n",
       "    }\n",
       "\n",
       "    .dataframe thead th {\n",
       "        text-align: right;\n",
       "    }\n",
       "</style>\n",
       "<table border=\"1\" class=\"dataframe\">\n",
       "  <thead>\n",
       "    <tr style=\"text-align: right;\">\n",
       "      <th></th>\n",
       "      <th>true_0</th>\n",
       "      <th>true_1</th>\n",
       "    </tr>\n",
       "  </thead>\n",
       "  <tbody>\n",
       "    <tr>\n",
       "      <th>pred_0</th>\n",
       "      <td>5.600000</td>\n",
       "      <td>1.400000</td>\n",
       "    </tr>\n",
       "    <tr>\n",
       "      <th>pred_1</th>\n",
       "      <td>3.111111</td>\n",
       "      <td>3.888889</td>\n",
       "    </tr>\n",
       "  </tbody>\n",
       "</table>\n",
       "</div>"
      ],
      "text/plain": [
       "          true_0    true_1\n",
       "pred_0  5.600000  1.400000\n",
       "pred_1  3.111111  3.888889"
      ]
     },
     "execution_count": 5,
     "metadata": {},
     "output_type": "execute_result"
    }
   ],
   "source": [
    "Q = C.copy()\n",
    "# calculate numerator.\n",
    "# for each predicted class `i`.\n",
    "for index, column in C.iterrows():\n",
    "    y_ij = column[\"true_0\"] + column[\"true_1\"]  # denominator in the numerator.\n",
    "    Q.loc[index, 'true_0'] = n[0] * column[\"true_0\"] / y_ij\n",
    "    Q.loc[index, 'true_1'] = n[0] * column[\"true_1\"] / y_ij\n",
    "Q"
   ]
  },
  {
   "cell_type": "code",
   "execution_count": 6,
   "metadata": {},
   "outputs": [
    {
     "data": {
      "text/html": [
       "<div>\n",
       "<style scoped>\n",
       "    .dataframe tbody tr th:only-of-type {\n",
       "        vertical-align: middle;\n",
       "    }\n",
       "\n",
       "    .dataframe tbody tr th {\n",
       "        vertical-align: top;\n",
       "    }\n",
       "\n",
       "    .dataframe thead th {\n",
       "        text-align: right;\n",
       "    }\n",
       "</style>\n",
       "<table border=\"1\" class=\"dataframe\">\n",
       "  <thead>\n",
       "    <tr style=\"text-align: right;\">\n",
       "      <th></th>\n",
       "      <th>true_0</th>\n",
       "      <th>true_1</th>\n",
       "    </tr>\n",
       "  </thead>\n",
       "  <tbody>\n",
       "    <tr>\n",
       "      <th>pred_0</th>\n",
       "      <td>0.400000</td>\n",
       "      <td>0.100000</td>\n",
       "    </tr>\n",
       "    <tr>\n",
       "      <th>pred_1</th>\n",
       "      <td>0.222222</td>\n",
       "      <td>0.277778</td>\n",
       "    </tr>\n",
       "  </tbody>\n",
       "</table>\n",
       "</div>"
      ],
      "text/plain": [
       "          true_0    true_1\n",
       "pred_0  0.400000  0.100000\n",
       "pred_1  0.222222  0.277778"
      ]
     },
     "execution_count": 6,
     "metadata": {},
     "output_type": "execute_result"
    }
   ],
   "source": [
    "# devided by the denominator.\n",
    "Q = Q / Q.values.sum()\n",
    "assert Q.values.sum() == 1.0\n",
    "Q"
   ]
  },
  {
   "attachments": {},
   "cell_type": "markdown",
   "metadata": {},
   "source": [
    "#### Invoke Confident Learning from `cleanlab`\n",
    "The authors proposed five approaches for finding mislabeled data based on the calibrated confident joint matrix $Q$ in their paper. To simplify, here I implement these approaches via `cleanlab` rather than reimplementing them."
   ]
  },
  {
   "cell_type": "code",
   "execution_count": 7,
   "metadata": {},
   "outputs": [],
   "source": [
    "y_true = df_data['y'].values\n",
    "y_pred = np.c_[df_data['p0'].values, df_data['p1'].values]"
   ]
  },
  {
   "cell_type": "code",
   "execution_count": 8,
   "metadata": {},
   "outputs": [
    {
     "name": "stdout",
     "output_type": "stream",
     "text": [
      "The index of error samples discriminated by PBC are: 7,13,19,15,1,5\n",
      "The index of error samples discriminated by PBNR are: 7,13,19,15,1,5\n",
      "The index of error samples discriminated by C+NR are: 7,13,19,15,1,5\n"
     ]
    }
   ],
   "source": [
    "# Method 3：Prune by Class (PBC)\n",
    "cleanlab\n",
    "cl_pbc = cleanlab.filter.find_label_issues(\n",
    "    y_true,\n",
    "    y_pred,\n",
    "    filter_by='prune_by_class',\n",
    "    return_indices_ranked_by='self_confidence'\n",
    ")\n",
    "print(f\"The index of error samples discriminated by PBC are: {','.join([str(ele) for ele in cl_pbc])}\")\n",
    "\n",
    "# Method 4：Prune by Noise Rate (PBNR)\n",
    "cl_pbnr = cleanlab.filter.find_label_issues(\n",
    "    y_true,\n",
    "    y_pred,\n",
    "    filter_by='prune_by_noise_rate',\n",
    "    return_indices_ranked_by='self_confidence'\n",
    ")\n",
    "print(f\"The index of error samples discriminated by PBNR are: {','.join([str(ele) for ele in cl_pbnr])}\")\n",
    "\n",
    "# Method 5：C+NR\n",
    "cl_both = cleanlab.filter.find_label_issues(\n",
    "    y_true,\n",
    "    y_pred,\n",
    "    filter_by='both',\n",
    "    return_indices_ranked_by='self_confidence'\n",
    ")\n",
    "print(f\"The index of error samples discriminated by C+NR are: {','.join([str(ele) for ele in cl_both])}\")"
   ]
  },
  {
   "cell_type": "code",
   "execution_count": 9,
   "metadata": {},
   "outputs": [
    {
     "data": {
      "text/html": [
       "<div>\n",
       "<style scoped>\n",
       "    .dataframe tbody tr th:only-of-type {\n",
       "        vertical-align: middle;\n",
       "    }\n",
       "\n",
       "    .dataframe tbody tr th {\n",
       "        vertical-align: top;\n",
       "    }\n",
       "\n",
       "    .dataframe thead th {\n",
       "        text-align: right;\n",
       "    }\n",
       "</style>\n",
       "<table border=\"1\" class=\"dataframe\">\n",
       "  <thead>\n",
       "    <tr style=\"text-align: right;\">\n",
       "      <th></th>\n",
       "      <th>p0</th>\n",
       "      <th>p1</th>\n",
       "      <th>y</th>\n",
       "    </tr>\n",
       "  </thead>\n",
       "  <tbody>\n",
       "    <tr>\n",
       "      <th>7</th>\n",
       "      <td>0.9</td>\n",
       "      <td>0.1</td>\n",
       "      <td>1</td>\n",
       "    </tr>\n",
       "    <tr>\n",
       "      <th>13</th>\n",
       "      <td>0.9</td>\n",
       "      <td>0.1</td>\n",
       "      <td>1</td>\n",
       "    </tr>\n",
       "    <tr>\n",
       "      <th>19</th>\n",
       "      <td>0.9</td>\n",
       "      <td>0.1</td>\n",
       "      <td>1</td>\n",
       "    </tr>\n",
       "    <tr>\n",
       "      <th>15</th>\n",
       "      <td>0.1</td>\n",
       "      <td>0.9</td>\n",
       "      <td>0</td>\n",
       "    </tr>\n",
       "    <tr>\n",
       "      <th>1</th>\n",
       "      <td>0.7</td>\n",
       "      <td>0.3</td>\n",
       "      <td>1</td>\n",
       "    </tr>\n",
       "    <tr>\n",
       "      <th>5</th>\n",
       "      <td>0.6</td>\n",
       "      <td>0.4</td>\n",
       "      <td>1</td>\n",
       "    </tr>\n",
       "  </tbody>\n",
       "</table>\n",
       "</div>"
      ],
      "text/plain": [
       "     p0   p1  y\n",
       "7   0.9  0.1  1\n",
       "13  0.9  0.1  1\n",
       "19  0.9  0.1  1\n",
       "15  0.1  0.9  0\n",
       "1   0.7  0.3  1\n",
       "5   0.6  0.4  1"
      ]
     },
     "execution_count": 9,
     "metadata": {},
     "output_type": "execute_result"
    }
   ],
   "source": [
    "# mislabeled samples.\n",
    "df_data.loc[cl_both]"
   ]
  },
  {
   "attachments": {},
   "cell_type": "markdown",
   "metadata": {},
   "source": [
    "### A Real-World Task\n",
    "To be completed..."
   ]
  }
 ],
 "metadata": {
  "kernelspec": {
   "display_name": "dcAI",
   "language": "python",
   "name": "python3"
  },
  "language_info": {
   "codemirror_mode": {
    "name": "ipython",
    "version": 3
   },
   "file_extension": ".py",
   "mimetype": "text/x-python",
   "name": "python",
   "nbconvert_exporter": "python",
   "pygments_lexer": "ipython3",
   "version": "3.10.8"
  },
  "orig_nbformat": 4
 },
 "nbformat": 4,
 "nbformat_minor": 2
}
